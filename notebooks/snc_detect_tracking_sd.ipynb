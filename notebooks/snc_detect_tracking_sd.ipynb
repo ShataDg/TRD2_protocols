{
 "cells": [
  {
   "cell_type": "markdown",
   "metadata": {},
   "source": [
    "# Initialization"
   ]
  },
  {
   "cell_type": "code",
   "execution_count": 1,
   "metadata": {},
   "outputs": [
    {
     "name": "stdout",
     "output_type": "stream",
     "text": [
      "Requirement already satisfied: ipykernel in /Users/sdasgupt/anaconda3/envs/trd2_protocol/lib/python3.9/site-packages (6.29.3)\n",
      "Requirement already satisfied: appnope in /Users/sdasgupt/anaconda3/envs/trd2_protocol/lib/python3.9/site-packages (from ipykernel) (0.1.4)\n",
      "Requirement already satisfied: comm>=0.1.1 in /Users/sdasgupt/anaconda3/envs/trd2_protocol/lib/python3.9/site-packages (from ipykernel) (0.2.2)\n",
      "Requirement already satisfied: debugpy>=1.6.5 in /Users/sdasgupt/anaconda3/envs/trd2_protocol/lib/python3.9/site-packages (from ipykernel) (1.8.1)\n",
      "Requirement already satisfied: ipython>=7.23.1 in /Users/sdasgupt/anaconda3/envs/trd2_protocol/lib/python3.9/site-packages (from ipykernel) (8.18.1)\n",
      "Requirement already satisfied: jupyter-client>=6.1.12 in /Users/sdasgupt/anaconda3/envs/trd2_protocol/lib/python3.9/site-packages (from ipykernel) (8.6.1)\n",
      "Requirement already satisfied: jupyter-core!=5.0.*,>=4.12 in /Users/sdasgupt/anaconda3/envs/trd2_protocol/lib/python3.9/site-packages (from ipykernel) (5.7.1)\n",
      "Requirement already satisfied: matplotlib-inline>=0.1 in /Users/sdasgupt/anaconda3/envs/trd2_protocol/lib/python3.9/site-packages (from ipykernel) (0.1.7)\n",
      "Requirement already satisfied: nest-asyncio in /Users/sdasgupt/anaconda3/envs/trd2_protocol/lib/python3.9/site-packages (from ipykernel) (1.6.0)\n",
      "Requirement already satisfied: packaging in /Users/sdasgupt/anaconda3/envs/trd2_protocol/lib/python3.9/site-packages (from ipykernel) (24.0)\n",
      "Requirement already satisfied: psutil in /Users/sdasgupt/anaconda3/envs/trd2_protocol/lib/python3.9/site-packages (from ipykernel) (5.9.8)\n",
      "Requirement already satisfied: pyzmq>=24 in /Users/sdasgupt/anaconda3/envs/trd2_protocol/lib/python3.9/site-packages (from ipykernel) (26.0.2)\n",
      "Requirement already satisfied: tornado>=6.1 in /Users/sdasgupt/anaconda3/envs/trd2_protocol/lib/python3.9/site-packages (from ipykernel) (6.4)\n",
      "Requirement already satisfied: traitlets>=5.4.0 in /Users/sdasgupt/anaconda3/envs/trd2_protocol/lib/python3.9/site-packages (from ipykernel) (5.14.3)\n",
      "Requirement already satisfied: decorator in /Users/sdasgupt/anaconda3/envs/trd2_protocol/lib/python3.9/site-packages (from ipython>=7.23.1->ipykernel) (5.1.1)\n",
      "Requirement already satisfied: jedi>=0.16 in /Users/sdasgupt/anaconda3/envs/trd2_protocol/lib/python3.9/site-packages (from ipython>=7.23.1->ipykernel) (0.19.1)\n",
      "Requirement already satisfied: prompt-toolkit<3.1.0,>=3.0.41 in /Users/sdasgupt/anaconda3/envs/trd2_protocol/lib/python3.9/site-packages (from ipython>=7.23.1->ipykernel) (3.0.42)\n",
      "Requirement already satisfied: pygments>=2.4.0 in /Users/sdasgupt/anaconda3/envs/trd2_protocol/lib/python3.9/site-packages (from ipython>=7.23.1->ipykernel) (2.17.2)\n",
      "Requirement already satisfied: stack-data in /Users/sdasgupt/anaconda3/envs/trd2_protocol/lib/python3.9/site-packages (from ipython>=7.23.1->ipykernel) (0.6.2)\n",
      "Requirement already satisfied: typing-extensions in /Users/sdasgupt/anaconda3/envs/trd2_protocol/lib/python3.9/site-packages (from ipython>=7.23.1->ipykernel) (4.11.0)\n",
      "Requirement already satisfied: exceptiongroup in /Users/sdasgupt/anaconda3/envs/trd2_protocol/lib/python3.9/site-packages (from ipython>=7.23.1->ipykernel) (1.2.0)\n",
      "Requirement already satisfied: pexpect>4.3 in /Users/sdasgupt/anaconda3/envs/trd2_protocol/lib/python3.9/site-packages (from ipython>=7.23.1->ipykernel) (4.9.0)\n",
      "Requirement already satisfied: importlib-metadata>=4.8.3 in /Users/sdasgupt/anaconda3/envs/trd2_protocol/lib/python3.9/site-packages (from jupyter-client>=6.1.12->ipykernel) (7.1.0)\n",
      "Requirement already satisfied: python-dateutil>=2.8.2 in /Users/sdasgupt/anaconda3/envs/trd2_protocol/lib/python3.9/site-packages (from jupyter-client>=6.1.12->ipykernel) (2.9.0)\n",
      "Requirement already satisfied: platformdirs>=2.5 in /Users/sdasgupt/anaconda3/envs/trd2_protocol/lib/python3.9/site-packages (from jupyter-core!=5.0.*,>=4.12->ipykernel) (4.2.1)\n",
      "Requirement already satisfied: zipp>=0.5 in /Users/sdasgupt/anaconda3/envs/trd2_protocol/lib/python3.9/site-packages (from importlib-metadata>=4.8.3->jupyter-client>=6.1.12->ipykernel) (3.17.0)\n",
      "Requirement already satisfied: parso<0.9.0,>=0.8.3 in /Users/sdasgupt/anaconda3/envs/trd2_protocol/lib/python3.9/site-packages (from jedi>=0.16->ipython>=7.23.1->ipykernel) (0.8.4)\n",
      "Requirement already satisfied: ptyprocess>=0.5 in /Users/sdasgupt/anaconda3/envs/trd2_protocol/lib/python3.9/site-packages (from pexpect>4.3->ipython>=7.23.1->ipykernel) (0.7.0)\n",
      "Requirement already satisfied: wcwidth in /Users/sdasgupt/anaconda3/envs/trd2_protocol/lib/python3.9/site-packages (from prompt-toolkit<3.1.0,>=3.0.41->ipython>=7.23.1->ipykernel) (0.2.13)\n",
      "Requirement already satisfied: six>=1.5 in /Users/sdasgupt/anaconda3/envs/trd2_protocol/lib/python3.9/site-packages (from python-dateutil>=2.8.2->jupyter-client>=6.1.12->ipykernel) (1.16.0)\n",
      "Requirement already satisfied: executing>=1.2.0 in /Users/sdasgupt/anaconda3/envs/trd2_protocol/lib/python3.9/site-packages (from stack-data->ipython>=7.23.1->ipykernel) (2.0.1)\n",
      "Requirement already satisfied: asttokens>=2.1.0 in /Users/sdasgupt/anaconda3/envs/trd2_protocol/lib/python3.9/site-packages (from stack-data->ipython>=7.23.1->ipykernel) (2.4.1)\n",
      "Requirement already satisfied: pure-eval in /Users/sdasgupt/anaconda3/envs/trd2_protocol/lib/python3.9/site-packages (from stack-data->ipython>=7.23.1->ipykernel) (0.2.2)\n",
      "Requirement already satisfied: imagej in /Users/sdasgupt/anaconda3/envs/trd2_protocol/lib/python3.9/site-packages (0.3.1)\n",
      "Requirement already satisfied: pyjnius in /Users/sdasgupt/anaconda3/envs/trd2_protocol/lib/python3.9/site-packages (1.6.1)\n",
      "Requirement already satisfied: pyimagej in /Users/sdasgupt/anaconda3/envs/trd2_protocol/lib/python3.9/site-packages (1.4.1)\n",
      "Requirement already satisfied: imglyb>=2.1.0 in /Users/sdasgupt/anaconda3/envs/trd2_protocol/lib/python3.9/site-packages (from pyimagej) (2.1.0)\n",
      "Requirement already satisfied: jgo>=1.0.3 in /Users/sdasgupt/anaconda3/envs/trd2_protocol/lib/python3.9/site-packages (from pyimagej) (1.0.5)\n",
      "Requirement already satisfied: jpype1>=1.3.0 in /Users/sdasgupt/anaconda3/envs/trd2_protocol/lib/python3.9/site-packages (from pyimagej) (1.5.0)\n",
      "Requirement already satisfied: labeling>=0.1.12 in /Users/sdasgupt/anaconda3/envs/trd2_protocol/lib/python3.9/site-packages (from pyimagej) (0.1.13)\n",
      "Requirement already satisfied: numpy in /Users/sdasgupt/anaconda3/envs/trd2_protocol/lib/python3.9/site-packages (from pyimagej) (1.26.4)\n",
      "Requirement already satisfied: scyjava>=1.8.0 in /Users/sdasgupt/anaconda3/envs/trd2_protocol/lib/python3.9/site-packages (from pyimagej) (1.9.1)\n",
      "Requirement already satisfied: xarray in /Users/sdasgupt/anaconda3/envs/trd2_protocol/lib/python3.9/site-packages (from pyimagej) (2024.3.0)\n",
      "Requirement already satisfied: psutil in /Users/sdasgupt/anaconda3/envs/trd2_protocol/lib/python3.9/site-packages (from jgo>=1.0.3->pyimagej) (5.9.8)\n",
      "Requirement already satisfied: packaging in /Users/sdasgupt/anaconda3/envs/trd2_protocol/lib/python3.9/site-packages (from jpype1>=1.3.0->pyimagej) (24.0)\n",
      "Requirement already satisfied: tifffile in /Users/sdasgupt/anaconda3/envs/trd2_protocol/lib/python3.9/site-packages (from labeling>=0.1.12->pyimagej) (2024.4.24)\n",
      "Requirement already satisfied: pillow<10 in /Users/sdasgupt/anaconda3/envs/trd2_protocol/lib/python3.9/site-packages (from labeling>=0.1.12->pyimagej) (9.5.0)\n",
      "Requirement already satisfied: scipy<2 in /Users/sdasgupt/anaconda3/envs/trd2_protocol/lib/python3.9/site-packages (from labeling>=0.1.12->pyimagej) (1.13.0)\n",
      "Requirement already satisfied: pandas>=1.5 in /Users/sdasgupt/anaconda3/envs/trd2_protocol/lib/python3.9/site-packages (from xarray->pyimagej) (2.2.2)\n",
      "Requirement already satisfied: python-dateutil>=2.8.2 in /Users/sdasgupt/anaconda3/envs/trd2_protocol/lib/python3.9/site-packages (from pandas>=1.5->xarray->pyimagej) (2.9.0)\n",
      "Requirement already satisfied: pytz>=2020.1 in /Users/sdasgupt/anaconda3/envs/trd2_protocol/lib/python3.9/site-packages (from pandas>=1.5->xarray->pyimagej) (2024.1)\n",
      "Requirement already satisfied: tzdata>=2022.7 in /Users/sdasgupt/anaconda3/envs/trd2_protocol/lib/python3.9/site-packages (from pandas>=1.5->xarray->pyimagej) (2024.1)\n",
      "Requirement already satisfied: six>=1.5 in /Users/sdasgupt/anaconda3/envs/trd2_protocol/lib/python3.9/site-packages (from python-dateutil>=2.8.2->pandas>=1.5->xarray->pyimagej) (1.16.0)\n",
      "Requirement already satisfied: matplotlib in /Users/sdasgupt/anaconda3/envs/trd2_protocol/lib/python3.9/site-packages (3.8.4)\n",
      "Requirement already satisfied: contourpy>=1.0.1 in /Users/sdasgupt/anaconda3/envs/trd2_protocol/lib/python3.9/site-packages (from matplotlib) (1.2.1)\n",
      "Requirement already satisfied: cycler>=0.10 in /Users/sdasgupt/anaconda3/envs/trd2_protocol/lib/python3.9/site-packages (from matplotlib) (0.12.1)\n",
      "Requirement already satisfied: fonttools>=4.22.0 in /Users/sdasgupt/anaconda3/envs/trd2_protocol/lib/python3.9/site-packages (from matplotlib) (4.51.0)\n",
      "Requirement already satisfied: kiwisolver>=1.3.1 in /Users/sdasgupt/anaconda3/envs/trd2_protocol/lib/python3.9/site-packages (from matplotlib) (1.4.5)\n",
      "Requirement already satisfied: numpy>=1.21 in /Users/sdasgupt/anaconda3/envs/trd2_protocol/lib/python3.9/site-packages (from matplotlib) (1.26.4)\n",
      "Requirement already satisfied: packaging>=20.0 in /Users/sdasgupt/anaconda3/envs/trd2_protocol/lib/python3.9/site-packages (from matplotlib) (24.0)\n",
      "Requirement already satisfied: pillow>=8 in /Users/sdasgupt/anaconda3/envs/trd2_protocol/lib/python3.9/site-packages (from matplotlib) (9.5.0)\n",
      "Requirement already satisfied: pyparsing>=2.3.1 in /Users/sdasgupt/anaconda3/envs/trd2_protocol/lib/python3.9/site-packages (from matplotlib) (3.1.2)\n",
      "Requirement already satisfied: python-dateutil>=2.7 in /Users/sdasgupt/anaconda3/envs/trd2_protocol/lib/python3.9/site-packages (from matplotlib) (2.9.0)\n",
      "Requirement already satisfied: importlib-resources>=3.2.0 in /Users/sdasgupt/anaconda3/envs/trd2_protocol/lib/python3.9/site-packages (from matplotlib) (6.4.0)\n",
      "Requirement already satisfied: zipp>=3.1.0 in /Users/sdasgupt/anaconda3/envs/trd2_protocol/lib/python3.9/site-packages (from importlib-resources>=3.2.0->matplotlib) (3.17.0)\n",
      "Requirement already satisfied: six>=1.5 in /Users/sdasgupt/anaconda3/envs/trd2_protocol/lib/python3.9/site-packages (from python-dateutil>=2.7->matplotlib) (1.16.0)\n"
     ]
    }
   ],
   "source": [
    "#Pip install required dependencies\n",
    "\n",
    "!pip install ipykernel\n",
    "!pip install imagej\n",
    "!pip install pyjnius\n",
    "!pip install pyimagej\n",
    "!pip install matplotlib"
   ]
  },
  {
   "cell_type": "code",
   "execution_count": 2,
   "metadata": {},
   "outputs": [],
   "source": [
    "#Import required packages\n",
    "\n",
    "import os\n",
    "import sys\n",
    "import imagej\n",
    "import scipy.ndimage\n",
    "import numpy as np\n",
    "import pandas as pd\n",
    "import matplotlib.pyplot as plt\n",
    "import scyjava as sj\n",
    "\n",
    "from jpype import JInt\n",
    "from imagej._java import jc"
   ]
  },
  {
   "cell_type": "code",
   "execution_count": 3,
   "metadata": {},
   "outputs": [
    {
     "name": "stdout",
     "output_type": "stream",
     "text": [
      "ImageJ2/Fiji version: 2.9.0/1.53t\n"
     ]
    }
   ],
   "source": [
    "# initialize Fiji endpoint (ver 2.9.0) in interactive mode\n",
    "import imagej\n",
    "ij = imagej.init('sc.fiji:fiji:2.9.0')\n",
    "print(f\"ImageJ2/Fiji version: {ij.getVersion()}\")"
   ]
  },
  {
   "cell_type": "code",
   "execution_count": 4,
   "metadata": {},
   "outputs": [],
   "source": [
    "# load legacy ImageJ resources\n",
    "DirectoryChooser = sj.jimport('ij.io.DirectoryChooser')\n",
    "GenericDialog = sj.jimport('ij.gui.GenericDialog')\n",
    "ResultsTable = sj.jimport('ij.measure.ResultsTable')\n",
    "TextWindow = sj.jimport('ij.text.TextWindow')"
   ]
  },
  {
   "cell_type": "code",
   "execution_count": 5,
   "metadata": {},
   "outputs": [],
   "source": [
    "# load ImageJ2/Fiji resources\n",
    "Model = sj.jimport('fiji.plugin.trackmate.Model')\n",
    "Settings = sj.jimport('fiji.plugin.trackmate.Settings')\n",
    "TrackMate = sj.jimport('fiji.plugin.trackmate.TrackMate')\n",
    "DogDetectorFactory = sj.jimport('fiji.plugin.trackmate.detection.DogDetectorFactory')\n",
    "SelectionModel = sj.jimport('fiji.plugin.trackmate.SelectionModel')\n",
    "SimpleSparseLAPTrackerFactory = sj.jimport('fiji.plugin.trackmate.tracking.sparselap.SimpleSparseLAPTrackerFactory')\n",
    "LAPUtils = sj.jimport('fiji.plugin.trackmate.tracking.LAPUtils')\n",
    "LabelImgExporter = sj.jimport('fiji.plugin.trackmate.action.LabelImgExporter')\n",
    "DisplaySettingsIO = sj.jimport('fiji.plugin.trackmate.gui.displaysettings.DisplaySettingsIO')\n",
    "FeatureFilter = sj.jimport('fiji.plugin.trackmate.features.FeatureFilter')\n",
    "Table = sj.jimport('org.scijava.table.Table')"
   ]
  },
  {
   "cell_type": "code",
   "execution_count": 6,
   "metadata": {},
   "outputs": [],
   "source": [
    "# load Java specific resources\n",
    "Double = sj.jimport('java.lang.Double')"
   ]
  },
  {
   "cell_type": "code",
   "execution_count": 9,
   "metadata": {},
   "outputs": [],
   "source": [
    "pipeline_params = {\n",
    "    \"time\": 30,\n",
    "    \"outradius\": 4,\n",
    "    \"outthreshold\": 10,\n",
    "    \"outwhich\": \"Bright\", # valid options: \"Bright\", \"Dark\"\n",
    "    \"diameter\": 20.0,\n",
    "    \"threshold\": 0.5,\n",
    "    \"medianfilter\": True,\n",
    "    \"subpixel\": True,\n",
    "    \"channel\": 1,\n",
    "    \"quality\": 1.2,\n",
    "    \"link_distance\": 15.0,\n",
    "    \"gap_distance\": 15.0,\n",
    "    \"gap_frame\": 20,\n",
    "    \"max_event_frame\": 500,\n",
    "    \"min_event_frames_for_good\": 60,\n",
    "    \"event_ext\": 0,\n",
    "    \"event_pixel_size\": 11,\n",
    "    \"input_dir\": \"/Users/sdasgupt/Documents/TRD2_protocol/input\",\n",
    "    \"output_dir\": \"/Users/sdasgupt/Documents/TRD2_protocol/output\"\n",
    "}"
   ]
  },
  {
   "cell_type": "code",
   "execution_count": 10,
   "metadata": {},
   "outputs": [],
   "source": [
    "import scyjava"
   ]
  },
  {
   "cell_type": "code",
   "execution_count": 13,
   "metadata": {},
   "outputs": [
    {
     "ename": "ModuleNotFoundError",
     "evalue": "No module named 'ij'",
     "output_type": "error",
     "traceback": [
      "\u001b[0;31m---------------------------------------------------------------------------\u001b[0m",
      "\u001b[0;31mModuleNotFoundError\u001b[0m                       Traceback (most recent call last)",
      "Cell \u001b[0;32mIn[13], line 1\u001b[0m\n\u001b[0;32m----> 1\u001b[0m \u001b[38;5;28;01mfrom\u001b[39;00m \u001b[38;5;21;01mij\u001b[39;00m \u001b[38;5;28;01mimport\u001b[39;00m IJ, WindowManager, ImagePlus\n\u001b[1;32m      2\u001b[0m \u001b[38;5;28;01mfrom\u001b[39;00m \u001b[38;5;21;01mij\u001b[39;00m\u001b[38;5;21;01m.\u001b[39;00m\u001b[38;5;21;01mio\u001b[39;00m \u001b[38;5;28;01mimport\u001b[39;00m DirectoryChooser\n\u001b[1;32m      3\u001b[0m \u001b[38;5;28;01mfrom\u001b[39;00m \u001b[38;5;21;01mij\u001b[39;00m\u001b[38;5;21;01m.\u001b[39;00m\u001b[38;5;21;01mgui\u001b[39;00m \u001b[38;5;28;01mimport\u001b[39;00m WaitForUserDialog, GenericDialog\n",
      "\u001b[0;31mModuleNotFoundError\u001b[0m: No module named 'ij'"
     ]
    }
   ],
   "source": [
    "#imported from Barbara's notebook\n",
    "from ij import IJ, WindowManager, ImagePlus\n",
    "from ij.io import DirectoryChooser\n",
    "from ij.gui import WaitForUserDialog, GenericDialog\n",
    "from ij.plugin import ImageCalculator, PlugIn\n",
    "from ij.measure import Measurements, ResultsTable\n",
    "from ij.plugin.frame import RoiManager"
   ]
  },
  {
   "cell_type": "code",
   "execution_count": 11,
   "metadata": {},
   "outputs": [
    {
     "name": "stderr",
     "output_type": "stream",
     "text": [
      "Operating in headless mode - the original ImageJ will have limited functionality.\n",
      "Operating in headless mode - the IJ class will not be fully functional.\n"
     ]
    },
    {
     "ename": "java.awt.HeadlessException",
     "evalue": "java.awt.HeadlessException",
     "output_type": "error",
     "traceback": [
      "\u001b[0;31m---------------------------------------------------------------------------\u001b[0m",
      "\u001b[0;31mException\u001b[0m                                 Traceback (most recent call last)",
      "File \u001b[0;32mImagePlus.java:479\u001b[0m, in \u001b[0;36mij.ImagePlus.show\u001b[0;34m()\u001b[0m\n",
      "\u001b[0;31mException\u001b[0m: Java Exception",
      "\nThe above exception was the direct cause of the following exception:\n",
      "\u001b[0;31mjava.awt.HeadlessException\u001b[0m                Traceback (most recent call last)",
      "Cell \u001b[0;32mIn[11], line 8\u001b[0m\n\u001b[1;32m      6\u001b[0m name \u001b[38;5;241m=\u001b[39m f\u001b[38;5;241m.\u001b[39msplit(\u001b[38;5;124m\"\u001b[39m\u001b[38;5;124m.\u001b[39m\u001b[38;5;124m\"\u001b[39m)[\u001b[38;5;241m0\u001b[39m]\n\u001b[1;32m      7\u001b[0m imp \u001b[38;5;241m=\u001b[39m ij\u001b[38;5;241m.\u001b[39mIJ\u001b[38;5;241m.\u001b[39mopenImage(os\u001b[38;5;241m.\u001b[39mpath\u001b[38;5;241m.\u001b[39mjoin(pipeline_params[\u001b[38;5;124m'\u001b[39m\u001b[38;5;124minput_dir\u001b[39m\u001b[38;5;124m'\u001b[39m], f))\n\u001b[0;32m----> 8\u001b[0m \u001b[43mimp\u001b[49m\u001b[38;5;241;43m.\u001b[39;49m\u001b[43mshow\u001b[49m\u001b[43m(\u001b[49m\u001b[43m)\u001b[49m\n\u001b[1;32m      9\u001b[0m ij\u001b[38;5;241m.\u001b[39mIJ\u001b[38;5;241m.\u001b[39mselectWindow(name \u001b[38;5;241m+\u001b[39m file_type)\n\u001b[1;32m     11\u001b[0m \u001b[38;5;66;03m# get number of frames/slices\u001b[39;00m\n\u001b[1;32m     12\u001b[0m \u001b[38;5;66;03m# Assuming 3D data, the first two dimensions in ImageJ are always\u001b[39;00m\n\u001b[1;32m     13\u001b[0m \u001b[38;5;66;03m# X and Y, thus the last dimension will be frames/slices\u001b[39;00m\n",
      "\u001b[0;31mjava.awt.HeadlessException\u001b[0m: java.awt.HeadlessException"
     ]
    }
   ],
   "source": [
    "\n",
    "detection_results = {}\n",
    "file_type = '.tif'\n",
    "files = os.listdir(pipeline_params['input_dir'])\n",
    "for f in files:\n",
    "    if f[-4:] == file_type:\n",
    "        name = f.split(\".\")[0]\n",
    "        imp = ij.IJ.openImage(os.path.join(pipeline_params['input_dir'], f))\n",
    "        imp.show()\n",
    "        ij.IJ.selectWindow(name + file_type)\n",
    "        \n",
    "        # get number of frames/slices\n",
    "        # Assuming 3D data, the first two dimensions in ImageJ are always\n",
    "        # X and Y, thus the last dimension will be frames/slices\n",
    "        for i in range(len(imp.dims)):\n",
    "            if (imp.dims[i] != 'X') and (imp.dims[i] != 'Y'):\n",
    "                frames = imp.shape[i]\n",
    "\n",
    "        ij.IJ.run(imp, \"Properties...\", \"channels=1 slices=1 frames=\" + str(frames) + \" pixel_width=1.0000 pixel_height=1.0000 voxel_depth=1.0000 frame=[\" + str(pipeline_params['time']) +\" min]\")\n",
    "        ij.IJ.run(imp, \"Despeckle\", \"stack\")\n",
    "        ij.IJ.run(\"Despeckle\", \"stack\")\n",
    "        ij.IJ.run(\"Despeckle\", \"stack\")\n",
    "        ij.IJ.run(imp, \"Remove Outliers...\", \"radius=\" + str(pipeline_params['outradius']) + \" threshold=\" + str(pipeline_params['outthreshold']) + \" which=\" + str(pipeline_params['outwhich']) +\" stack\")\n",
    "        detection_results['raw_image'] = ij.WindowManager.getImage(name + '.tif').duplicate() # save raw/processed image\n",
    "\n",
    "        model = Model()\n",
    "        settings = Settings(imp)\n",
    "        radius = float(pipeline_params['diameter']) / 2\n",
    "        settings.detectorFactory = DogDetectorFactory()\n",
    "        settings.detectorSettings = {\n",
    "            'DO_SUBPIXEL_LOCALIZATION': pipeline_params['subpixel'],\n",
    "            'RADIUS': radius,\n",
    "            'TARGET_CHANNEL': JInt(pipeline_params['channel']),\n",
    "            'THRESHOLD': float(pipeline_params['threshold']),\n",
    "            'DO_MEDIAN_FILTERING': pipeline_params['medianfilter']\n",
    "        }\n",
    "        filter = FeatureFilter('QUALITY', float(pipeline_params['quality']), True)\n",
    "        settings.addSpotFilter(filter)\n",
    "        settings.trackerFactory = SimpleSparseLAPTrackerFactory()\n",
    "        settings.trackerSettings = LAPUtils.getDefaultLAPSettingsMap()\n",
    "        settings.trackerSettings['LINKING_MAX_DISTANCE'] = float(pipeline_params['link_distance'])\n",
    "        settings.trackerSettings['GAP_CLOSING_MAX_DISTANCE'] = float(pipeline_params['gap_distance'])\n",
    "        settings.trackerSettings['MAX_FRAME_GAP'] = JInt(pipeline_params['gap_frame'])\n",
    "        tm = TrackMate(model, settings)\n",
    "\n",
    "        # check TrackMate input and process\n",
    "        if not tm.checkInput():\n",
    "            sys.exit(str(tm.getErrorMessage()))\n",
    "\n",
    "        sm = SelectionModel(model) # needed?\n",
    "        tm.process()\n",
    "        use_spots_as_id = True\n",
    "        export_spots = True\n",
    "        export_tracks = True\n",
    "        label_img = LabelImgExporter.createLabelImagePlus(tm, export_spots, export_tracks, use_spots_as_id)\n",
    "        detection_results['label_image'] = label_img.duplicate() # save label image\n",
    "        label_img.show()\n",
    "        ij.IJ.saveAs(\"Tiff\", os.path.join(pipeline_params['output_dir'], name + '_lblImg.tif'))\n",
    "        ij.IJ.run(\"Close\")\n",
    "\n",
    "        export_spots = False\n",
    "        export_tracks = True\n",
    "        spot_img = LabelImgExporter.createLabelImagePlus(tm, export_spots, export_tracks, use_spots_as_id)\n",
    "        spot_img.show()\n",
    "        ij.IJ.saveAs(\"Tiff\", os.path.join(pipeline_params['output_dir'], name + '_SpotImg.tif'))\n",
    "        ij.IJ.run(imp, \"Merge Channels...\", \"c4=\" + name + \".tif c6=\" + name + \"_SpotImg.tif keep ignore\")\n",
    "        ij.IJ.run(imp, \"RGB Color\", \"frames\")\n",
    "        ij.IJ.saveAs(\"Tiff\",os.path.join(pipeline_params['output_dir'], name + '_merge.tif'))\n",
    "        ij.IJ.run(\"Close\")\n",
    "\n",
    "        fm = model.getFeatureModel()\n",
    "        rt = ij.WindowManager.getWindow(\"TrackMate Results\")\n",
    "\n",
    "        # table stuff\n",
    "        if (rt == None) or not (isinstance(rt, TextWindow)):\n",
    "            table = ResultsTable()\n",
    "        else:\n",
    "            table = rt.getTextPanel().getOrCreateResultsTable()\n",
    "        table.reset\n",
    "\n",
    "        for id in model.getTrackModel().trackIDs(True):\n",
    "            v = fm.getTrackFeature(id, 'TRACK_MEAN_SPEED')\n",
    "            model.getLogger().log('')\n",
    "            model.getLogger().log('Track ' + str(id) + ': mean velocity = ' + str(v) + ' ' + str(model.getSpaceUnits()) + '/' + str(model.getTimeUnits()))\n",
    "            track = model.getTrackModel().trackSpots(id)\n",
    "            for spot in track:\n",
    "                sid = spot.ID()\n",
    "                x = spot.getFeature('POSITION_X')\n",
    "                y = spot.getFeature('POSITION_Y')\n",
    "                t = spot.getFeature('FRAME')\n",
    "                q = spot.getFeature('QUALITY')\n",
    "                model.getLogger().log('\\tspot ID = ' + str(sid) + ': x=' + str(x) + ', y=' + str(y) + ', t=' + str(t) + ', q=' + str(q))\n",
    "                table.incrementCounter()\n",
    "                table.addValue('TRACK_ID', Double(id))\n",
    "                table.addValue('SPOT_ID', sid)\n",
    "                table.addValue('POSITION_X', x)\n",
    "                table.addValue('POSITION_Y', y)\n",
    "                table.addValue('FRAME', t)\n",
    "                table.addValue('QUALITY', q)\n",
    "\n",
    "        table.show(\"TrackMate Results\")\n",
    "        ij.WindowManager.getWindow(\"TrackMate Results\").rename(name + '.csv')\n",
    "        ij.IJ.saveAs(\"Measurements\", os.path.join(pipeline_params['output_dir'], name + '.csv'))\n",
    "        ij.IJ.selectWindow(name + '.csv')\n",
    "        ij.IJ.run(\"Close\")\n",
    "        detection_results['raw_image'].show()\n",
    "        ij.IJ.selectWindow('DUP_' + name + '.tif')\n",
    "        ij.IJ.saveAs(\"Tiff\",os.path.join(pipeline_params['output_dir'], name + '_processed.tif'))\n",
    "        detection_results['tracks'] = ij.py.from_java(ij.convert().convert(table, Table)) # convert ResultsTable to pandas dataframe"
   ]
  }
 ],
 "metadata": {
  "kernelspec": {
   "display_name": "trd2_protocol",
   "language": "python",
   "name": "python3"
  },
  "language_info": {
   "codemirror_mode": {
    "name": "ipython",
    "version": 3
   },
   "file_extension": ".py",
   "mimetype": "text/x-python",
   "name": "python",
   "nbconvert_exporter": "python",
   "pygments_lexer": "ipython3",
   "version": "3.9.19"
  }
 },
 "nbformat": 4,
 "nbformat_minor": 2
}
